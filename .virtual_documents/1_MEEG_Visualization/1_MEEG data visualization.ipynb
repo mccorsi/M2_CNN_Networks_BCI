%matplotlib qt
#%matplotlib inline


import mne
from mne.datasets import eegbci
from mne.io import concatenate_raws, read_raw_edf
import matplotlib.pyplot as plt
import mne.viz
import os
import os.path as op

import numpy as np

import seaborn as sns

from warnings import simplefilter
#ignore all future warnings
simplefilter(action='ignore', category=FutureWarning)

from warnings import filterwarnings
filterwarnings(action='ignore', category=DeprecationWarning, message='`np.bool` is a deprecated alias')






data_path = op.join(mne.datasets.sample.data_path(), 'MEG', 'sample')
raw = mne.io.read_raw_fif(op.join(data_path, 'sample_audvis_raw.fif'))
#raw.set_eeg_reference()  # set EEG average reference
events = mne.read_events(op.join(data_path, 'sample_audvis_raw-eve.fif'))


raw.plot(block=True)


raw.plot_sensors(kind='3d', ch_type='mag', ch_groups='position')


# hint on artifacts
projs = mne.read_proj(op.join(data_path, 'sample_audvis_eog-proj.fif'))
raw.add_proj(projs)
raw.plot_projs_topomap()


raw.plot()





## Load dataset & plot raw data
    # run 1: Baseline, eyes open
    # run 2: Baseline, eyes closed
    # runs 3, 7, 11: Motor execution: left vs right hand
    # runs 4, 8, 12: Motor imagery: left vs right hand
    # runs 5, 9, 13: Motor execution: hands vs feet
    # runs 6, 10, 14: Motor imagery: hands vs feet

#Define the parameters
subject = 1  # use data from subject 1
runs = [1]  # just to look at resting state data

#Get data and locate in to given path
files = eegbci.load_data(subject, runs, '../datasets/')
#Read raw data files where each file contains a run
raws = [read_raw_edf(f, preload=True) for f in files]
#Combine all loaded runs
raw_obj = concatenate_raws(raws)

raw_data = raw_obj.get_data()
print("Number of channels: ", str(len(raw_data)))
print("Number of samples: ", str(len(raw_data[0])))



# Plot timeseries
raw_obj.plot(block=True)
#raw_obj.plot(duration=120, n_channels=15, scalings=dict(eeg=420e-6))


# Plot PSD
raw_obj.plot_psd(average=True)


# check for events
subject = 1  # use data from subject 1
runs = [6, 10, 14]  # use only hand and feet motor imagery runs

#Get data and locate in to given path
files = eegbci.load_data(subject, runs, '../datasets/')
#Read raw data files where each file contains a run
raws = [read_raw_edf(f, preload=True) for f in files]
#Combine all loaded runs
raw_obj = concatenate_raws(raws)

raw_data = raw_obj.get_data()


events, _ = mne.events_from_annotations(raw_obj, event_id=dict(T1=2, T2=3))
#picks = mne.pick_channels(raw.info["ch_names"], ["C3", "Cz", "C4"])

# epoch data
tmin, tmax = -1, 4  # define epochs around events (in s)
event_ids = dict(hands=2, feet=3)  # map event IDs to tasks

epochs = mne.Epochs(raw_obj, events, event_ids, tmin - 0.5, tmax + 0.5, #picks=picks, 
                    baseline=None, preload=True)



epochs["hands"].plot(
    events=events
)



epochs["feet"].plot(
    events=events
)


epochs.plot_sensors(kind="3d", ch_type="eeg")
epochs.plot_sensors(kind="topomap", ch_type="eeg")


epochs["hands"].compute_psd().plot(picks="eeg", exclude="bads")


epochs["hands"].plot_image(picks="eeg", combine="mean")


mne.viz.plot_epochs_image(
    epochs,
    [10, 11],
    sigma=0.5,
    #order=order_func,
    vmin=-250,
    vmax=250,
    #overlay_times=plt_times,
    show=True,
)
#epochs["hands"].plot_epochs_image(picks=["C3", "Cz", "C4"])



