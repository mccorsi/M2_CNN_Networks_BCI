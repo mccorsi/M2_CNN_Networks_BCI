


import matplotlib.pyplot as plt

from mne import Epochs, pick_types, events_from_annotations
from mne.io import concatenate_raws
from mne.io.edf import read_raw_edf
from mne.datasets import eegbci

import numpy as np
import pandas as pd
import seaborn as sns

from pyriemann.classification import FgMDM
from pyriemann.estimation import Covariances, Coherences
from pyriemann.spatialfilters import CSP
from pyriemann.tangentspace import TangentSpace

from sklearn.base import BaseEstimator, TransformerMixin
from sklearn.discriminant_analysis import LinearDiscriminantAnalysis as LDA
from sklearn.ensemble import StackingClassifier
from sklearn.linear_model import LogisticRegression
from sklearn.model_selection import GridSearchCV, StratifiedKFold
from sklearn.pipeline import Pipeline
from sklearn.svm import SVC


from helpers.coherence_helpers import (
    NearestSPD,
    get_results,
)





class Connectivities(TransformerMixin, BaseEstimator):
    """Getting connectivity features from epoch"""

    def __init__(self, method="ordinary", fmin=8, fmax=35, fs=None):
        self.method = method
        self.fmin = fmin
        self.fmax = fmax
        self.fs = fs

    def fit(self, X, y=None):
        self._coh = Coherences(
            coh=self.method,
            fmin=self.fmin,
            fmax=self.fmax,
            fs=self.fs,
        )
        return self

    def transform(self, X):
        X_coh = self._coh.fit_transform(X)
        X_con = np.mean(X_coh, axis=-1, keepdims=False)
        return X_con





# avoid classification of evoked responses by using epochs that start 1s after cue onset.
tmin, tmax = 1.0, 2.0
event_id = dict(hands=2, feet=3)
subject = 7
runs = [4, 8]  # motor imagery: left vs right hand

raw_files = [
    read_raw_edf(f, preload=True) for f in eegbci.load_data(subject, runs)
]
raw = concatenate_raws(raw_files)

picks = pick_types(
    raw.info, meg=False, eeg=True, stim=False, eog=False, exclude="bads"
)
# subsample elecs
picks = picks[::2]

# Apply band-pass filter
raw.filter(7.0, 35.0, method="iir", picks=picks)

events, _ = events_from_annotations(raw, event_id=dict(T1=2, T2=3))

# Read epochs (train will be done only between 1 and 2s)
epochs = Epochs(
    raw,
    events,
    event_id,
    tmin,
    tmax,
    proj=True,
    picks=picks,
    baseline=None,
    preload=True,
    verbose=False,
)
labels = epochs.events[:, -1] - 2
fs = epochs.info["sfreq"]
X = 1e6 * epochs.get_data()





# plot infos features
spectral_met = ["cov", "lagged", "instantaneous"]
fmin, fmax = 8, 35

idx_left=np.where(labels==0)
idx_right=np.where(labels==1)

X_left=np.squeeze(X[idx_left,:,:])
X_right=np.squeeze(X[idx_right,:,:])

mat_connect_left=dict()
mat_connect_right=dict()

param_ft = {"fmin": fmin, "fmax": fmax, "fs": fs}
for sm in spectral_met:
    if sm == "cov":
        Y=Covariances(estimator="lwf").transform(X)
        mat_connect_left[sm]=Y[idx_left,:,:]
        mat_connect_right[sm]=Y[idx_right,:,:]
    else:
        Y=Coherences(coh=sm, fmin=fmin, fmax=fmax, fs=fs).transform(X)
        avg_freqBand=Y.mean(axis=3)
        mat_connect_left[sm]=np.mean(np.squeeze(avg_freqBand[idx_left,:,:]),0) # direct averaged over the trials
        mat_connect_right[sm]=np.mean(np.squeeze(avg_freqBand[idx_right,:,:]),0)
        
        
# plot FC
sm=spectral_met[2] # lagged coherence

fig, axes = plt.subplots(1,2, figsize=[8, 3])
ch_names = [ch.replace('.', '') for ch in epochs.ch_names]

df = pd.DataFrame(data=mat_connect_left[sm], index=ch_names, columns=ch_names)
g = sns.heatmap(
                df, ax=axes[0], square=True, cbar=True, xticklabels=2, yticklabels=2)
g.set_title('Mean ' + sm + ' - left MI')

df = pd.DataFrame(data=mat_connect_right[sm], index=ch_names, columns=ch_names)
g = sns.heatmap(
                df, ax=axes[1], square=True, cbar=True, xticklabels=2, yticklabels=2)
g.set_title('Mean ' + sm + ' - right MI')

plt.xticks(rotation='vertical')
plt.yticks(rotation='horizontal')
plt.show()


fig, axes = plt.subplots(figsize=[8, 4])
ch_names = [ch.replace('.', '') for ch in epochs.ch_names]

df = pd.DataFrame(data=mat_connect_right[sm]-mat_connect_left[sm], index=ch_names, columns=ch_names)
g = sns.heatmap(
                df, ax=axes, square=True, cbar=True, xticklabels=2, yticklabels=2, cmap="vlag")
g.set_title('Difference Right - Left ' + sm )

plt.xticks(rotation='vertical')
plt.yticks(rotation='horizontal')
plt.show()








ppl_baseline, ppl_fc, ppl_ens = {}, {}, {}


# Baseline pipelines
param_svm = {"kernel": ("linear", "rbf"), "C": [0.1, 1, 10]}
step_csp_svm = [
    ("cov", Covariances(estimator="lwf")),
    ("csp", CSP(nfilter=6)),
    ("optsvm", GridSearchCV(SVC(), param_svm, cv=3)),
]
ppl_baseline["CSP+optSVM"] = Pipeline(steps=step_csp_svm)


step_mdm = [
    ("cov", Covariances(estimator="lwf")),
    ("fgmdm", FgMDM(metric="riemann", tsupdate=False)),
]
ppl_baseline["FgMDM"] = Pipeline(steps=step_mdm)



# Functional connectivity pipelines
spectral_met = ["cov", "lagged", "instantaneous"]
fmin, fmax = 8, 35
param_lr = {
    "penalty": "elasticnet",
    "l1_ratio": 0.15,
    "intercept_scaling": 1000.0,
    "solver": "saga",
}
param_ft = {"fmin": fmin, "fmax": fmax, "fs": fs}
step_fc = [
    ("spd", NearestSPD()),
    ("tg", TangentSpace(metric="riemann")),
    ("LogistReg", LogisticRegression(**param_lr)),
]
for sm in spectral_met:
    pname = sm + "+elasticnet"
    if sm == "cov":
        ppl_fc[pname] = Pipeline(
            steps=[("cov", Covariances(estimator="lwf"))] + step_fc
        )
    else:
        ft = Connectivities(**param_ft, method=sm)
        ppl_fc[pname] = Pipeline(steps=[("ft", ft)] + step_fc)


# Ensemble classifier
fc_estim = [(n, ppl_fc[n]) for n in ppl_fc]
cvkf = StratifiedKFold(n_splits=5, shuffle=True, random_state=42)

lr = LogisticRegression(**param_lr)
ppl_ens["ensemble"] = StackingClassifier(
    estimators=fc_estim,
    cv=cvkf,
    n_jobs=1,
    final_estimator=lr,
    stack_method="predict_proba",
)





dataset_res = list()
all_ppl = {**ppl_baseline, **ppl_ens}
#print(all_ppl)


# Compute results
results = get_results(X, labels, all_ppl)
results = pd.DataFrame(results)


results


# plot results
list_fc_ens = ["ensemble", "CSP+optSVM", "FgMDM"] + \
    [sm + "+elasticnet" for sm in spectral_met]

g = sns.catplot(
    data=results,
    x="pipeline",
    y="score",
    kind="bar",
    order=list_fc_ens,
    height=7,
    aspect=2,
)
plt.show()
