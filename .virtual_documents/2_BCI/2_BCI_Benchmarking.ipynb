


import matplotlib.pyplot as plt
from mne.decoding import CSP
from pyriemann.estimation import Covariances
from pyriemann.tangentspace import TangentSpace
from sklearn.discriminant_analysis import LinearDiscriminantAnalysis as LDA
from sklearn.linear_model import LogisticRegression
from sklearn.pipeline import Pipeline
from sklearn.pipeline import make_pipeline
from sklearn.model_selection import GridSearchCV, StratifiedKFold
from sklearn.svm import SVC

import moabb
from moabb import benchmark, set_log_level
from moabb.analysis.plotting import score_plot
import moabb.analysis.plotting as moabb_plt
from moabb.analysis.meta_analysis import (  # noqa: E501
    compute_dataset_statistics,
    find_significant_differences,
)
from moabb.datasets import BNCI2014001, Zhou2016, Cho2017
from moabb.evaluations import CrossSessionEvaluation
from moabb.paradigms import LeftRightImagery

import seaborn as sns

moabb.set_log_level("info")
print(__doc__)



# pipelines to be compared

pipelines = {}

param_svm = {"kernel": ("linear", "rbf"), "C": [0.1, 1, 10]}
step_csp_svm = [
    ("cov", Covariances(estimator="lwf")),
    ("csp", CSP(6)),
    ("optsvm", GridSearchCV(SVC(), param_svm, cv=3)),
]
pipelines["CSP+optSVM"] = Pipeline(steps=step_csp_svm)


pipelines["CSP+LDA"] = make_pipeline(CSP(n_components=8), LDA())

pipelines["RG+LR"] = make_pipeline(Covariances(), TangentSpace(), LogisticRegression())

pipelines["CSP+LR"] = make_pipeline(CSP(n_components=8), LogisticRegression())

pipelines["RG+LDA"] = make_pipeline(Covariances(), TangentSpace(), LDA())



# evaluation on one dataset

paradigm = LeftRightImagery()
dataset = BNCI2014001()
dataset.subject_list = dataset.subject_list[:4]
datasets = [dataset]
overwrite = True  # set to False if we want to use cached results
evaluation = CrossSessionEvaluation(
    paradigm=paradigm, datasets=datasets, suffix="stats", overwrite=overwrite
)

results = evaluation.process(pipelines)


# plot comparison
fig = moabb_plt.score_plot(results)
plt.show()



fig = moabb_plt.paired_plot(results, "CSP+LDA", "RG+LDA")
plt.show()


# plot statistical comparison
stats = compute_dataset_statistics(results)
P, T = find_significant_differences(stats)

fig = moabb_plt.meta_analysis_plot(stats, "CSP+LDA", "RG+LDA")
plt.show()


moabb_plt.summary_plot(P, T)
plt.show()





paradigm = LeftRightImagery()
subj = [1, 2, 3]
datasets = [BNCI2014001(), Zhou2016()]
for d in datasets:
    d.subject_list = subj

overwrite = True  # set to False if we want to use cached results
evaluation = CrossSessionEvaluation(
    paradigm=paradigm, datasets=datasets, suffix="stats", overwrite=overwrite
)

results = evaluation.process(pipelines)



sns.catplot(
    data=results,
    x="session",
    y="score",
    hue="subject",
    col="dataset",
    kind="bar",
    palette="viridis",
)
plt.show()


fig = moabb_plt.score_plot(results)
plt.show()


stats = compute_dataset_statistics(results)
P, T = find_significant_differences(stats)
moabb_plt.summary_plot(P, T)
plt.show()



fig = moabb_plt.meta_analysis_plot(stats, "CSP+LDA", "RG+LR")
plt.show()
