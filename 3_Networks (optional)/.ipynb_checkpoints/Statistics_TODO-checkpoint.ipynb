{
 "cells": [
  {
   "cell_type": "code",
   "execution_count": null,
   "id": "4f024cba-7f14-4a46-a8d6-3dacf38cb6df",
   "metadata": {},
   "outputs": [],
   "source": [
    "# if time - some elements of statistics - link between lesson 2 and 3 - decoding -> BCI\n",
    "\n",
    "# comparing (simple) connectivity metrics OR PSD between conditions:\n",
    "# - at the individual level\n",
    "# - at the group level"
   ]
  },
  {
   "cell_type": "code",
   "execution_count": null,
   "id": "295b7c1f-e84d-492e-8b3d-bf1dd0052b3a",
   "metadata": {},
   "outputs": [],
   "source": [
    "# ++++ Another possibility - global script that shows a global analysis for a neuroscientific purpose \n",
    "# cf reproducibility issue - LAIUS A FAIRE: https://www.biorxiv.org/content/10.1101/240044v1.full.pdf\n",
    "# Results: http://mne.tools/mne-biomag-group-demo/auto_examples/index.html\n",
    "# preproc & analysis: http://mne.tools/mne-biomag-group-demo/auto_scripts/index.html\n",
    "\n",
    "# potential link to lesson 4 to decode MEG signal across time: http://mne.tools/mne-biomag-group-demo/auto_scripts/10-sliding_estimator.html#sphx-glr-auto-scripts-10-sliding-estimator-py"
   ]
  },
  {
   "cell_type": "code",
   "execution_count": null,
   "id": "e20649b3-a7d4-4a40-8463-b28ca01a9d72",
   "metadata": {},
   "outputs": [],
   "source": [
    "# TODO: add references to go deeper"
   ]
  }
 ],
 "metadata": {
  "kernelspec": {
   "display_name": "Python 3 (ipykernel)",
   "language": "python",
   "name": "python3"
  },
  "language_info": {
   "codemirror_mode": {
    "name": "ipython",
    "version": 3
   },
   "file_extension": ".py",
   "mimetype": "text/x-python",
   "name": "python",
   "nbconvert_exporter": "python",
   "pygments_lexer": "ipython3",
   "version": "3.10.12"
  }
 },
 "nbformat": 4,
 "nbformat_minor": 5
}
